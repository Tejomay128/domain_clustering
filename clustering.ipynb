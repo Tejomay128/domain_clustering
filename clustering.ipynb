{
 "cells": [
  {
   "cell_type": "code",
   "execution_count": 1,
   "metadata": {},
   "outputs": [
    {
     "name": "stderr",
     "output_type": "stream",
     "text": [
      "You are using torchaudio==0.9.0, but torchaudio>=0.10.0 is required to use MCTCTFeatureExtractor. This requires torch>=1.10.0. Please upgrade torch and torchaudio.\n",
      "You are using torch==1.9.0+cu111, but torch>=1.10.0 is required to use ViltModel. Please upgrade torch.\n"
     ]
    },
    {
     "name": "stdout",
     "output_type": "stream",
     "text": [
      "cuda\n"
     ]
    }
   ],
   "source": [
    "import numpy as np\n",
    "import torch\n",
    "from transformers import *\n",
    "from sklearn.mixture import GaussianMixture\n",
    "import time\n",
    "device = \"cuda\" if torch.cuda.is_available() else \"cpu\"\n",
    "print(device)"
   ]
  },
  {
   "cell_type": "code",
   "execution_count": 3,
   "metadata": {},
   "outputs": [],
   "source": [
    "embeddings = {}\n",
    "embeddings['sents'] = np.load('sentences_en_distilbert.npy')\n",
    "embeddings['vectors'] = np.load('vectors_en_distilbert.npy')"
   ]
  },
  {
   "cell_type": "code",
   "execution_count": 4,
   "metadata": {},
   "outputs": [],
   "source": [
    "def GMM(data, num_clusters):\n",
    "    model = GaussianMixture(\n",
    "        n_components=num_clusters, \n",
    "        covariance_type='full', \n",
    "        max_iter=100, \n",
    "        random_state=0,\n",
    "        verbose=1)\n",
    "\n",
    "    model.fit(data)\n",
    "    predictions = model.predict(data)\n",
    "    return predictions"
   ]
  },
  {
   "cell_type": "code",
   "execution_count": 6,
   "metadata": {},
   "outputs": [
    {
     "name": "stdout",
     "output_type": "stream",
     "text": [
      "Initialization 0\n",
      "  Iteration 10\n",
      "  Iteration 20\n",
      "  Iteration 30\n",
      "  Iteration 40\n",
      "  Iteration 50\n",
      "  Iteration 60\n",
      "  Iteration 70\n",
      "  Iteration 80\n",
      "  Iteration 90\n",
      "  Iteration 100\n",
      "Initialization converged: False\n"
     ]
    },
    {
     "name": "stderr",
     "output_type": "stream",
     "text": [
      "/opt/envs/pytorch/lib/python3.7/site-packages/sklearn/mixture/_base.py:282: ConvergenceWarning: Initialization 1 did not converge. Try different init parameters, or increase max_iter, tol or check for degenerate data.\n",
      "  ConvergenceWarning,\n"
     ]
    }
   ],
   "source": [
    "start = time.time()\n",
    "pred = GMM(embeddings['vectors'], 10)\n",
    "end  = time.time()\n",
    "print(f\"Time taken to converge: {(end-start) / 60} mins.\")\n",
    "np.save('pred_en_distilbert.npy', pred)"
   ]
  },
  {
   "cell_type": "code",
   "execution_count": 14,
   "metadata": {},
   "outputs": [
    {
     "name": "stdout",
     "output_type": "stream",
     "text": [
      "7 खाता संपादक\n",
      "29 उतराना\n",
      "33 केगेट ट्रांसफर सूची\n",
      "37 आप्पा शेर्पा\n",
      "43 असम में बीन\n",
      "56 ५ः सामान्य\n",
      "72 चित्तीदार\n",
      "77 अबार\n",
      "84 टिप्पणी\n",
      "105 अंतिम शेष\n",
      "116 त्रिज्या \n",
      "117 हैबतनाक\n",
      "123 हाल का खोलें\n",
      "151 भंग करना\n",
      "156 अवलंबित\n",
      "158 दुग्ध कृषि \n",
      "169 प्रोग्राम\n",
      "181 अनिर्वाच्य\n",
      "189 अविहड़\n",
      "199 आयंदा\n",
      "206 मकर राशि\n",
      "212 लरजना\n",
      "219 मोरक्कन\n",
      "221 नोकिया ६२६५ \n",
      "242 बुल्गन प्रांत\n",
      "247 गरुड़ पुराण\n",
      "250 ग्राहकगण\n",
      "266 रक्तरंजित\n",
      "271 ताल्लुक\n",
      "273 विकास निगम\n",
      "283 चहल-कदमी\n",
      "284 पृष्ठांकन करना\n",
      "297 प्रमुख जैन तीर्थ \n",
      "302 विलम्ब\n",
      "304 हिजबुल्लाह \n",
      "317 स्लोवाक\n",
      "319 व्यंजन-सूची\n",
      "328 राइटर्स बिल्डिंग\n",
      "330 ऍरियल यूनिकोड ऍमऍस\n",
      "341 श्रीकृष्ण\n",
      "343 काटोया \n",
      "348 पंजाब के जिले\n",
      "351 अप्राप्त\n",
      "358 मैसाचूसिट्स\n",
      "371 असहनीय\n",
      "373 दीनबन्धु\n",
      "387 वेटनरी डॉक्टर\n",
      "389 प्रारूप\n",
      "392 फ़ाइल पर पठन त्रुटि\n",
      "413 किरगिजिया\n",
      "417 कश्मीरी\n",
      "422 आनुवांशिक\n",
      "425 अंतर्निहत\n",
      "428 ग्रंथ लिपियों\n",
      "436 गीलापन\n",
      "443 प्रशांत/नौमिया\n",
      "446 चित्र खोलें\n",
      "473 घोर परिश्रम\n",
      "478 अलंकारहीन\n",
      "479 अलिफ़ लाम मीम\n",
      "481 कोडैकानल\n",
      "513 हुरुट्टक\n",
      "522 ब्यवहार\n",
      "523 दीवानापन \n",
      "526 चैक काटना\n",
      "534 अलायी\n",
      "550 पटाना\n",
      "551 विवस्त्र\n",
      "557 निराशावादी\n",
      "559 गुणधर्म\n",
      "562 हार्दिक\n",
      "565 सकेंडरी कॉइल\n",
      "574 दहशतगर्दी\n",
      "585 अचला सचदेव \n",
      "591 प्रात\n",
      "600 निरन्न\n",
      "607 इकतरफा यातायात\n",
      "620 निष्पन्न\n",
      "634 मुखमंडनक\n",
      "640 अरण्य\n",
      "648 चकराना\n",
      "666 संगम होना\n",
      "672 व्यंगचित्र\n",
      "683 कादम्बरी\n",
      "698 व्यक्ति\n",
      "712 संप्रेषक\n",
      "714 कशीदा\n",
      "723 पीछे रह जाना\n",
      "735 भोग विलास\n",
      "736 शिथिलता\n",
      "738 मिलाएं से\n",
      "742 सलतनत\n",
      "743 प्लगिन चुनें\n",
      "751 नक्शा मूल्यः\n",
      "752 डाटा ओवरराइड करें\n",
      "756 पूर्ण हानि\n",
      "762 कैमरा\n",
      "763 आखुवाहन\n",
      "764 मोटर इंश्योरर्स ब्यूरो\n",
      "765 चन्द्रशेखर\n",
      "776 कबरिस्तान\n",
      "786 प्रकंपन\n",
      "787 अनुमोदन संवाद\n",
      "791 सिलीन स्टेनोफ़ाइला\n",
      "814 अश्म मुद्रण\n",
      "817 सिक्किम \n",
      "830 वित्त मन्त्री\n",
      "831 समाप्त\n",
      "840 आमदनी\n",
      "847 अपह्रास\n",
      "848 प्रकटन\n",
      "857 स्थिर\n",
      "859 कार्य दिवसः\n",
      "862 देहरादून\n",
      "867 भरमाना\n",
      "877 चित्त विपर्यय\n",
      "883 तुर्कोमेन\n",
      "887 अनुपूरण\n",
      "894 अरुण गवली\n",
      "900 कृषि तंत्र\n",
      "908 आच्छद सुमेलन\n",
      "910 पिशाचों\n",
      "916 अनेक चयन\n",
      "919 शरारत\n",
      "922 पंद्रहवां\n",
      "925 मेस्टिज़ो\n",
      "932 न्यू ओरलीएन्स सेन्ट्स\n",
      "941 नदिया\n",
      "951 कोई प्रभाव नहीं\n",
      "957 वाणिज्य-वस्तु\n",
      "991 सच्चिदानन्द\n",
      "998 राज कुंद्रा\n",
      "999 ऑंकडा/डेटा बहुसंकेतक\n"
     ]
    }
   ],
   "source": [
    "for i in range(1000):\n",
    "    if pred[i] == 7:\n",
    "        print(i, embeddings['sents'][i])\n",
    "# np.save(\"predictions.npy\", pred)"
   ]
  }
 ],
 "metadata": {
  "kernelspec": {
   "display_name": "Python 3",
   "language": "python",
   "name": "python3"
  },
  "language_info": {
   "codemirror_mode": {
    "name": "ipython",
    "version": 3
   },
   "file_extension": ".py",
   "mimetype": "text/x-python",
   "name": "python",
   "nbconvert_exporter": "python",
   "pygments_lexer": "ipython3",
   "version": "3.7.12"
  },
  "vscode": {
   "interpreter": {
    "hash": "916dbcbb3f70747c44a77c7bcd40155683ae19c65e1c03b4aa3499c5328201f1"
   }
  }
 },
 "nbformat": 4,
 "nbformat_minor": 2
}
