{
 "cells": [
  {
   "cell_type": "code",
   "execution_count": 1,
   "metadata": {},
   "outputs": [],
   "source": [
    "import numpy as np\n",
    "import torch\n",
    "from transformers import *\n",
    "from sklearn.mixture import GaussianMixture\n",
    "device = \"cuda\" if torch.cuda.is_available() else \"cpu\""
   ]
  },
  {
   "cell_type": "code",
   "execution_count": 2,
   "metadata": {},
   "outputs": [],
   "source": [
    "embeddings = {}\n",
    "embeddings['sents'] = np.load('sentences.npy')\n",
    "embeddings['vectors'] = np.load('vectors.npy')"
   ]
  },
  {
   "cell_type": "code",
   "execution_count": 3,
   "metadata": {},
   "outputs": [],
   "source": [
    "def GMM(data, num_clusters):\n",
    "    model = GaussianMixture(\n",
    "        n_components=num_clusters, \n",
    "        covariance_type='full', \n",
    "        max_iter=100, \n",
    "        random_state=0,\n",
    "        verbose=1)\n",
    "\n",
    "    model.fit(data)\n",
    "    predictions = model.predict(data)\n",
    "    return predictions"
   ]
  },
  {
   "cell_type": "code",
   "execution_count": 4,
   "metadata": {},
   "outputs": [
    {
     "name": "stdout",
     "output_type": "stream",
     "text": [
      "Initialization 0\n",
      "  Iteration 10\n",
      "  Iteration 20\n",
      "  Iteration 30\n",
      "  Iteration 40\n",
      "  Iteration 50\n",
      "  Iteration 60\n",
      "  Iteration 70\n",
      "  Iteration 80\n",
      "Initialization converged: True\n"
     ]
    }
   ],
   "source": [
    "pred = GMM(embeddings['vectors'][0:100000], 10) "
   ]
  },
  {
   "cell_type": "code",
   "execution_count": 16,
   "metadata": {},
   "outputs": [
    {
     "name": "stdout",
     "output_type": "stream",
     "text": [
      "13 During the same period many eventful decisions were taken by the government on the recommendations of the Royal Asiatic Society of the United Kingdom .\n",
      "16 It runs up to Works the end of Svadisandhi.\n",
      "38 On reaching there, Bijla Singh mounted the boat along with his lanky steed.\n",
      "47 Swami Vivekananda is one of the finest example of achieving a number of things in a short span of life.\n",
      "52 The eminent poet 'Kant' Manishanker Ratnaji Bhatt reviewed Siddhantasara at length.\n",
      "69 Only 3 or 4 notes are produced and this instrument is used during Kali worship by this community and during harvest festivals like buffalo race, etc.\n",
      "78 The fourth meeting of the National Board for Wildlife was held on 1st November, 2007 under the Chairmanship of Hon 'ble Prime Minister.\n",
      "81 As Dhrutarahstra was blind by birth Pandu became the king.\n",
      "95 Keywords: Miniature Painting, Marriage Procession of Dara Shikoh, Mughal Art\n",
      "99 The National Council of Education they had set up succeeded in enlisting the help of persons who were something more than mere political figures.\n",
      "109 Adjoining the eastern wall of the Khwabgah is the octagonal Muthamman-Burj, from where the emperor appeared before his subjects every morning.\n",
      "111 Poresh Babu sent for Sucharita and told her; Lolita has come away for good from my house.\n",
      "122 Research and development activities under the space programme are carried out in the following centres / units of DOS / ISRO: i Vikram Sarabhai Space Centre VSSC, Thiruvananthapuram, is the lead centre for launch vehicle development.\n",
      "151 Government was made alert by widespread agitation.\n",
      "163 As at Lahore so at Karachi, Subhas Chandra and others having leftist leanings were excluded from the Congress Working Committee.\n",
      "182 The President said that we have a lot of hope in the young people of Mizoram.\n",
      "184 'Tiru' means sacred and 'Kural' means short verse - piece.\n",
      "192 The serpent goddess Manasa, according to popular legends of Bengal, is a dancer herself and the heroine of the theme, Behula, is said to have won back the life of her husband by impressing the gods of heaven with an exhibition of her dance.\n",
      "194 By the time you receive this letter you will have heard the news that I have decided to join the Union of India.\n",
      "206 Trade: Boycotts now exist in both directions. Even as the U. S. government sanctions Iranian products, Iran 's president Mahmoud Ahmadinejad says his government will “revise and cancel economic contracts” with countries where newspapers published the cartoons. Several Muslim countries have suspended trade with Denmark, while Muslim - owned stores in Canada have removed Danish products. The Pakistani medical association even announced a boycott of medicines from five European countries.\n",
      "214 The continuity of the musical traditions of India is established through a study of musical texts and numerous visual references one finds of musical instruments in painting and sculpture from prehistoric times to the present day.\n",
      "241 MII (recommended) MII (अनुशंसित)\n",
      "247 When Rama found wounded Jatayu, he learned that Ravan has taken Seeta in the direction of south.\n",
      "249 In Mumbai, Gandhiji lived in Manibhavan.\n",
      "259 Bhagat Singh was born on 27th November, 1907 in a place named Check No. 105 (now in Pakistan) in Lyallpur district.\n",
      "262 From Calcutta he proceeded to Gauhati en route to Sibsagar.\n",
      "272 This release issued at 1215 hrs.\n",
      "279 Welcoming Dr. Ameenah Gurib-Fakim on her first visit to India, President Mukherjee congratulated her on being the first woman President of Mauritius.\n",
      "286 Khandekar 's attention is found to return to this period again and again.\n",
      "314 Till about 5-6 years ago, there was a situation where if the Income Tax Commissioner used to give relief up to Rs 3 lakh to the taxpayer, it used to be challenged in ITAT.\n",
      "322 Bye-elections to the State Legislative Council of Andhra Pradesh and Maharashtra by the Members of Legislative Assembly.\n",
      "354 Along with nearly all Islamists, Mr. Ramadan has denied that there is “any certain proof” that Bin Laden was behind 9 / 11.\n",
      "361 The origin and evolution of Jagannath worship is unclear.\n",
      "371 They taught, practiced and experimented with what they had learnt in the west against the harsh realities of India.\n",
      "372 The moulded plinth is extensively engraved with inscriptions by its royal builder who refers to his many endowments, pious acts and organisational events connected to the temple.\n",
      "380 Ramadan: (1) No examinations during this month, “since the combination of preparing for exams and fasting may prove challenging for some pupils” and (2) no sex education, to respect strictures against sex during that month. < s > Food: Provide halal meals. Permit students to eat with their right hands.\n",
      "381 The main consumers of this product are the Gujarati community (of all religions) in India and all over the world.\n",
      "396 The United Nations had adopted the theme of “Sport for Development and Peace” in its Agenda in 2001, recognizing the “convening power” of sports.\n",
      "397 The Government will start within this year and from 20 different places across the country one of the biggest Civil Engineering programmes of our times.\n",
      "398 http://pranabmukherjee.nic.in/pr101213.html\n",
      "411 Two more Museums are being established in Western Region (Sawai Madhopur) and North-Eastern Region (Gangtok).\n",
      "413 Here the architect has tried to give attention to the circumambulation path which is enclosed by means of a wall allowing devotees to havepradakshana or cirumambulatory of the holy of holies.\n",
      "431 Shri Bhatt’s work embodies a unique love, a love that has long since become universal. It is a love of Nature and Nature as encompassing entire creation.\n",
      "433 The President of India, Shri Pranab Mukherjee called upon civil servants to be instruments of socio-economic transformation.\n",
      "438 Shri S. Satyamurti, a lawyer and outstanding orator, entered the Madras Legislative Council in 1923 and his fame as a legislator rapidly spread all over the country.\n",
      "439 One day, Dak Babu received a parcel.\n",
      "452 And all agree that he was from his college days a wonderful speaker, one who enunciated clearly and crisply and never seemed to have to grope for a word. - - Louis Auchincloss, \"Woodrow Wilson\"\n",
      "472 The launch of two initiatives - Swadesh Darshan and PRASAD (Pilgrimage Rejuvenation and Spiritual Augmentation Drive) - aiming at integrated development of circuits and pilgrim centres would go a long way in achieving this objective.\n",
      "493 In 1978 this was the 4th most successful movie of the year and was also listed in the indiantimes 25 must see bollywood movies.\n",
      "497 Congress established government in almost all places and won majority seats in central assembly.\n",
      "503 In this article I considered judiciously my virtues and gave praise for them in full measure.\n",
      "506 Q. Do you foresee any conflict between the Sangh Parivar and the BJP or the Government on certain issues? >\n",
      "515 Under its \"Sarva Shiksha Abhiyan (SSA)\", the Government of India, Ministry of Human Resource Development (MHRD) has been endeavouring to provide Basic Education to all children, youth and adults in the country.\n",
      "519 His poetry is that of a courtier, and has nothing special to commend it.\n",
      "522 There was a time when Englishmen were very well acquainted with Hindustani language and literature.\n",
      "533 Sathyabama Institute of Science and Technology (Deemed University) (External website that opens in a new window)\n",
      "560 Pooradam is an undesirable star for girls; a proverbial curse is one not only an orphan, but also one born under Pooradam '.\n",
      "561 The Congress found it totally disappointing.\n",
      "564 9 July \t1896 \tCommenced writing the 'Green Pamphlet' at Rajkot.\n",
      "572 That this series of struggles started in the Malabar area is something you can be proud of.\n",
      "574 Special costly silken fabric known as stavaraka was originally manufactured in Persia and is known to have been imported into India.\n",
      "577 As an impressionable youngster, Bal Gandharva would be content simply to watch and admire them.\n",
      "580 After two more public addresses of importance, one to the Bengali Literary Conference, the other to the Parliament of Religions held in Calcutta to mark the birth centenary of the Indian saint, Ramakrishna Paramahamsa, Tagore inaugurated at Santiniketan the Cheena Bhavan - LRB - Department of Sino - Indian Studies - RRB -, the first of its kind in India and still a leading centre of Chinese studies in the country.\n",
      "590 One businessman says that corrupt government officials and the Afghan security services often collude in these crimes. -- \"Afghanistan's kidnapping industry\", New York Times, September 16, 2008\n",
      "591 Then Acharya Drona took the responsibility of leading the army |\n",
      "592 The President said that the past half-century has been one of both achievements and difficulties for Nagaland.\n",
      "604 The court jeweller is seen only in one chapter of the epic which consists of thirty chapters and there, too, the author explains the inevitable destiny to be the cause for the tragic end of the hero.\n",
      "606 He flaged-off of the Ekta Cruise Service to the Statue of Unity.\n",
      "628 In Indonesia it is called 'Hindu aagam'\n",
      "637 But, requesting anonymity, some customs staff told the BBC that at night, smugglers fix ropes at both sides of a rivulet that separates the Nepal - Tibet border.\n",
      "647 Sachin says he shares a special bond with his father 's constituency, but wo n' t the Wharton Business School graduate stick out in India 's grimy political scene?\n",
      "651 The stories of Emperor Asoka 's son, Kunal, and Puma Bhakta, Rup and Basant, in ancient and mediaeval India and of Phaedra and Medea in ancient Greece show this trend.\n",
      "654 The Gandhian technique of no - tax campaign attained its glorious height in this struggle.\n",
      "670 This commitment to the cause of equity and equality is what had endeared him to Pandit Nehru, who fondly addressed him as \"Mir - I - Karawan\" (the caravan leader).\n",
      "676 I am very happy to know that 160 of these young over-seas Indians are here today to participate in the PravasiBharatiya Divas.\n",
      "678 Important cities in Bangalore are - Delhi, Mumbai, Kolkota, Chennai, Bangalore (Bengaluru)!\n",
      "680 A psychological explanation can be found in that the poet as well as his elder brother had to face great financial difficulties at the death of his father and had a natural aversion to the things which caused the family 's misfortune.\n",
      "687 In Vishwasghat Betrayal Dipak is a very good poet, but physically small and ugly.\n",
      "698 From that point of view, let me congratulate this Institute for reaching an important milestone while catering to the cause of tribal welfare.\n",
      "717 After this, the kingdom broke into small states.\n",
      "724 The process of the British conquest of India and the consolidation of British rule was accompanied by serious discontent and resentment among the people.\n",
      "725 Dhanpati Sapkota, an award winning farmer, won a cash prize of Rs. 1. 5 lakhs in a vegetable growing competition during the International Flower Festival at Gangtok.\n",
      "729 (Very Low Priority) (बहुत\n",
      "734 NALSAR has introduced unique MBA programmes in Court Management and Innovation &amp; Sustainability Management besides offering post-graduate degrees in Aviation and Telecommunication Laws.\n",
      "737 In the five years prior to 2014, I am talking about their last government, paddy worth Rs 2 lakh crores was purchased on MSP in the entire country.\n",
      "771 Dr. Ambedkar had said: On 26th January, 1950 we are going to enter into a life of contradictions.\n",
      "776 The President of India, Shri Pranab Mukherjee has extended his greetings and felicitations to the King and people ofthe Kingdom of Bahrain on the eve of their National Day (December 16, 2016).\n",
      "782 We have also had reports about the activities of Jaipal Singh and others in one or two States of the Chhattisgarh groups.\n",
      "793 Sonia 's Mahakumbha journey is in a way a triumph of his line.\n",
      "797 http://pranabmukherjee.nic.in/pr311016.html\n",
      "818 He also greeted all teachers of the country and expressed gratitude for their service and commitment.\n",
      "828 PRIME MINISTER: I do not think that it would be good to make the party a narrow party because we have to function in India as it is, and our society 119 as it is.\n",
      "829 It epitomises a saga of trials, tribulations and the eventual triumph of the will and hard work.\n",
      "841 The news of the discovery of Baba Bakala in the person of Tegh Bahadur as well as of his installation to Guru Nanak 's Gaddi, had spread far and wide.\n",
      "843 As Supreme Commander of Armed Forces, he asked them to perform their duties with loyalty, distinction, steadfastness and patriotic fervour.\n",
      "854 Economic Times considered SBI Life as ‘one of the top 50 great places to work with in India’, when Sh. Atanu Sen was at its helm.\n",
      "860 Indian national love and affection is respected worldwide.\n",
      "867 What finally will rouse Westerners from their stupor, to name the enemy and fight the war to victory? Only one thing seems likely: massive deaths, say 100, 000 casualties in a single WMD attack. Short of that, it appears, much of the West, contently deploying defensive measures against fancifully - described “activists, ” will gently slumber on.\n",
      "869 The Consortium for Educational Communication popularly known as CEC is one of the Inter University Centres set up by the University Grants Commission.\n",
      "873 Hundreds of crores of rupees are being invested under the National Bamboo Mission for bamboo farmers, artists associated with handicrafts and to develop other facilities.\n",
      "882 It developed more vigorously particularly under the Rashtrakutas as could be seen from their enormous output and such large - scale compositions as the caves at Elephanta, Dhumarlena and Jogeshvari, not to speak of the monolithic carvings of the Kailasa temple, and the Jain Chota Kailasa and the Jain chaumukh in the Indra Sabha complex.\n",
      "887 It is the decision of your mutual issues. ‎तुम्हारे\n",
      "889 From all these evidences it ca be assumed that Mahabharata has been written around 3000 BC or definitely before 1900 - 1000 BC, which relates to the astrological dates, language description, foreign links and ancient evidences mentioned in the Mahabharata.\n",
      "921 Sarojini now settled down happily as a young and romantic bride in Hyderabad, and in 1901 her first child, Jayasurya was born, to be followed in the next three years by Padmaja, Ranadhira and Leilamani.\n",
      "954 But while the spirit of democracy and the faith of the people in a democratic system have survived the test of time, our institutions have begun to show signs of corrosion.\n",
      "959 Inevitably, the Kittur rulers had to, on occasions, take the help of the British to retain the state intact.\n",
      "961 The Aravalli Range One of the oldest mountain chains in the world, the Aravalli Range also marks the site of one of the oldest geosynclines.\n",
      "962 Shri Kumar has rightly talked about the need to rebuild confidence and morale of industry.\n",
      "963 His dream was related to that of a 'self-reliant India'.\n",
      "967 It was introduced as many as eight times in the Lok Sabha and considered at various stages.\n",
      "968 Textiles Committee has recently received Excellence Award” at Global Cotton Conference for successfully organizing a Quality Certification Programme for Indian Ginning Mills under Star rating of Ginning & Pressing scheme and assist in building clean cotton image for the Indian Cotton.\n",
      "976 In many ways, he resembles Charles Freer Andrews, that close associate of Gandhiji and Rabindranath Tagore, but Charlie has many traits which are never shown in any official biography of C. F. Andrews.\n",
      "985 Budding litterateurs like Ranga - lal Banerjee, Bankimchandra Chatterjee, Deenabandhu Mitra, Akshay Coomer Datta, Dwarakanath Adhikari and Manmohan Basu had their apprenticeship in the pages of Prabhakar under the protecting care of Iswar Gupta.\n",
      "986 As G. T. Madkholkar has pointed out, 'If any one liberated Marathi theatre from the clutches of old fashioned, stereotype, coarse humour, and provided the audiance with an opportunity to enjoy original and delightful humour of a very high standard based upon western model, and made the theatre explode uninhibitedly with plain laughter, it was Kolhatkar only!\n"
     ]
    }
   ],
   "source": [
    "for i in range(1000):\n",
    "    if pred[i] == 7:\n",
    "        print(i, embeddings['sents'][i])\n",
    "# np.save(\"predictions.npy\", pred)"
   ]
  },
  {
   "cell_type": "code",
   "execution_count": 12,
   "metadata": {},
   "outputs": [
    {
     "name": "stdout",
     "output_type": "stream",
     "text": [
      "The default plugin layout for the bottom panel\n",
      "The default plugin layout for the top panel\n",
      "A list of plugins that are disabled by default\n",
      "Allows viewing of various interface properties\n",
      "Plugin with various methods of selecting accessibles quickly.\n"
     ]
    }
   ],
   "source": [
    "for i in range(100):\n",
    "    if pred[i] == 1:\n",
    "        print(embeddings['sents'][i])"
   ]
  },
  {
   "cell_type": "code",
   "execution_count": null,
   "metadata": {},
   "outputs": [],
   "source": []
  }
 ],
 "metadata": {
  "kernelspec": {
   "display_name": "Python 3.10.2 64-bit",
   "language": "python",
   "name": "python3"
  },
  "language_info": {
   "codemirror_mode": {
    "name": "ipython",
    "version": 3
   },
   "file_extension": ".py",
   "mimetype": "text/x-python",
   "name": "python",
   "nbconvert_exporter": "python",
   "pygments_lexer": "ipython3",
   "version": "3.10.2"
  },
  "orig_nbformat": 4,
  "vscode": {
   "interpreter": {
    "hash": "aab9dab3ac8d3b09c685e0e9affdb28b29d6e0a00c5ce1bd7d9a5e575eda31bd"
   }
  }
 },
 "nbformat": 4,
 "nbformat_minor": 2
}
