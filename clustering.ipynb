{
 "cells": [
  {
   "cell_type": "code",
   "execution_count": 1,
   "metadata": {},
   "outputs": [
    {
     "name": "stderr",
     "output_type": "stream",
     "text": [
      "You are using torchaudio==0.9.0, but torchaudio>=0.10.0 is required to use MCTCTFeatureExtractor. This requires torch>=1.10.0. Please upgrade torch and torchaudio.\n",
      "You are using torch==1.9.0+cu111, but torch>=1.10.0 is required to use ViltModel. Please upgrade torch.\n"
     ]
    },
    {
     "name": "stdout",
     "output_type": "stream",
     "text": [
      "cuda\n"
     ]
    }
   ],
   "source": [
    "import numpy as np\n",
    "import torch\n",
    "from transformers import *\n",
    "from sklearn.mixture import GaussianMixture\n",
    "import time\n",
    "device = \"cuda\" if torch.cuda.is_available() else \"cpu\"\n",
    "print(device)"
   ]
  },
  {
   "cell_type": "code",
   "execution_count": 2,
   "metadata": {},
   "outputs": [],
   "source": [
    "train_embeddings = {}\n",
    "test_embeddings = {}\n",
    "sents = np.load('distilBERT/sentences.npy')\n",
    "vectors = np.load('distilBERT/vectors.npy')\n",
    "domain = np.load('distilBERT/domain.npy')\n",
    "sentiment = np.load('distilBERT/sentiment.npy')\n",
    "\n",
    "split = int(0.8 * len(sents))\n",
    "train_embeddings['sents'] = sents[:split]\n",
    "train_embeddings['vectors'] = vectors[:split]\n",
    "train_embeddings['domain'] = domain[:split]\n",
    "train_embeddings['sentiment'] = sentiment[:split]\n",
    "test_embeddings['sents'] = sents[split:]\n",
    "test_embeddings['vectors'] = vectors[split:]\n",
    "test_embeddings['domain'] = domain[split:]\n",
    "test_embeddings['sentiment'] = sentiment[split:]"
   ]
  },
  {
   "cell_type": "code",
   "execution_count": 3,
   "metadata": {},
   "outputs": [],
   "source": [
    "DOMAINS = ['Automotive', 'Books', 'Music', 'Software', 'Baby']\n",
    "N_CLUSTERS = 10\n",
    "\n",
    "def GMM(data, num_clusters):\n",
    "    model = GaussianMixture(\n",
    "        n_components=num_clusters, \n",
    "        covariance_type='full', \n",
    "        max_iter=100, \n",
    "        random_state=0,\n",
    "        verbose=1)\n",
    "\n",
    "    model.fit(data)\n",
    "    return model\n",
    "\n",
    "\n",
    "def get_predictions(model, test_data):\n",
    "    return model.predict(test_data)\n",
    "\n",
    "\n",
    "def assign_labels_to_clusters(true_labels, predictions, num_clusters=8):\n",
    "    cluster_assignment = {}\n",
    "    true_count = 0\n",
    "    total = 0\n",
    "    for k in range(num_clusters):\n",
    "        count = [0] * len(DOMAINS)\n",
    "        for i, pred in enumerate(predictions):\n",
    "            if pred == k:\n",
    "                count[DOMAINS.index(true_labels[i])] += 1\n",
    "        max_count = max(count)\n",
    "        total_count = sum(count)\n",
    "        cluster_assignment[k] = (DOMAINS[count.index(max_count)], max_count, total_count)\n",
    "        true_count += max_count\n",
    "        total += total_count\n",
    "    acc = true_count / total\n",
    "    return cluster_assignment, acc\n",
    "\n",
    "\n",
    "def calc_test_accuracy(true_labels, predictions, cluster_assignment):\n",
    "    total = 0\n",
    "    true_count = 0\n",
    "    for i, pred in enumerate(predictions):\n",
    "        if cluster_assignment[pred][0] == true_labels[i]:\n",
    "            true_count +=1\n",
    "        total += 1\n",
    "    return true_count / total"
   ]
  },
  {
   "cell_type": "code",
   "execution_count": null,
   "metadata": {},
   "outputs": [],
   "source": [
    "start = time.time()\n",
    "model = GMM(train_embeddings['vectors'], N_CLUSTERS)\n",
    "end  = time.time()\n",
    "print(f\"Time taken to converge: {(end-start) / 3600} hrs.\")"
   ]
  },
  {
   "cell_type": "code",
   "execution_count": null,
   "metadata": {},
   "outputs": [],
   "source": [
    "train_pred = get_predictions(model, train_embeddings['vectors'])\n",
    "cluster_assignment, accuracy = assign_labels_to_clusters(train_embeddings['domain'], train_pred, N_CLUSTERS)\n",
    "print(f\"Train accuracy is {accuracy:.4f}\")\n",
    "\n",
    "test_pred = get_predictions(model, test_embeddings['vectors'])\n",
    "test_accuracy = calc_test_accuracy(test_embeddings['domain'], test_pred, cluster_assignment)\n",
    "print(f\"Test accuracy is {test_accuracy:.4f}\")\n",
    "\n",
    "np.save('test_pred_gmm_k5_distilBERT.npy', test_pred)"
   ]
  },
  {
   "cell_type": "code",
   "execution_count": null,
   "metadata": {
    "scrolled": true
   },
   "outputs": [],
   "source": [
    "for k in range(N_CLUSTERS):\n",
    "    print(f'Cluster-{k+1} | label: {cluster_assignment[k][0]} | Purity: {cluster_assignment[k][1]/cluster_assignment[k][2]}')"
   ]
  },
  {
   "cell_type": "code",
   "execution_count": null,
   "metadata": {},
   "outputs": [],
   "source": [
    "from sklearn.manifold import TSNE\n",
    "import seaborn as sns\n",
    "import pandas as pd\n",
    "\n",
    "tsne = TSNE(n_components=2, verbose=1, random_state=1)\n",
    "z = tsne.fit_transform(test_embeddings['vectors'])"
   ]
  },
  {
   "cell_type": "code",
   "execution_count": null,
   "metadata": {},
   "outputs": [],
   "source": [
    "df = pd.DataFrame()\n",
    "df[\"labels\"] = test_embeddings['domain']\n",
    "df[\"clusters\"] = [cluster_assignment[pred][0] for pred in test_pred]\n",
    "# df[\"clusters\"] = test_pred\n",
    "df[\"comp-1\"] = z[:,0]\n",
    "df[\"comp-2\"] = z[:,1]\n",
    "sns.scatterplot(data=df, x=\"comp-1\", y=\"comp-2\", hue=\"labels\", palette=sns.color_palette(\"hls\", 5))"
   ]
  },
  {
   "cell_type": "code",
   "execution_count": null,
   "metadata": {},
   "outputs": [],
   "source": [
    "sns.scatterplot(data=df, x=\"comp-1\", y=\"comp-2\", hue=\"clusters\", palette=sns.color_palette(\"hls\", 5))"
   ]
  },
  {
   "cell_type": "code",
   "execution_count": null,
   "metadata": {},
   "outputs": [],
   "source": []
  }
 ],
 "metadata": {
  "kernelspec": {
   "display_name": "Python 3",
   "language": "python",
   "name": "python3"
  },
  "language_info": {
   "codemirror_mode": {
    "name": "ipython",
    "version": 3
   },
   "file_extension": ".py",
   "mimetype": "text/x-python",
   "name": "python",
   "nbconvert_exporter": "python",
   "pygments_lexer": "ipython3",
   "version": "3.7.12"
  },
  "vscode": {
   "interpreter": {
    "hash": "916dbcbb3f70747c44a77c7bcd40155683ae19c65e1c03b4aa3499c5328201f1"
   }
  }
 },
 "nbformat": 4,
 "nbformat_minor": 2
}
