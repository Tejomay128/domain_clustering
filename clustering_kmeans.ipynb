{
 "cells": [
  {
   "cell_type": "code",
   "execution_count": 1,
   "metadata": {},
   "outputs": [
    {
     "name": "stderr",
     "output_type": "stream",
     "text": [
      "You are using torchaudio==0.9.0, but torchaudio>=0.10.0 is required to use MCTCTFeatureExtractor. This requires torch>=1.10.0. Please upgrade torch and torchaudio.\n",
      "You are using torch==1.9.0+cu111, but torch>=1.10.0 is required to use ViltModel. Please upgrade torch.\n"
     ]
    },
    {
     "name": "stdout",
     "output_type": "stream",
     "text": [
      "cuda\n"
     ]
    }
   ],
   "source": [
    "import numpy as np\n",
    "import torch\n",
    "from transformers import *\n",
    "from sklearn.cluster import KMeans\n",
    "import time\n",
    "device = \"cuda\" if torch.cuda.is_available() else \"cpu\"\n",
    "print(device)"
   ]
  },
  {
   "cell_type": "code",
   "execution_count": null,
   "metadata": {},
   "outputs": [],
   "source": [
    "LABELS = ['it', 'koran', 'law', 'medical', 'subtitles']\n",
    "train_embeddings = {}\n",
    "test_embeddings = {}\n",
    "train_embeddings['sents'] = np.load('train/sents.npy')\n",
    "train_embeddings['vectors'] = np.load('train/vectors.npy')\n",
    "train_embeddings['labels'] = np.load('train/labels.npy')\n",
    "test_embeddings['sents'] = np.load('test/sents.npy')\n",
    "test_embeddings['vectors'] = np.load('test/vectors.npy')\n",
    "test_embeddings['labels'] = np.load('test/labels.npy')"
   ]
  },
  {
   "cell_type": "code",
   "execution_count": null,
   "metadata": {},
   "outputs": [],
   "source": [
    "def kmeans(train_data, num_clusters=10):\n",
    "    model = KMeans(n_clusters=num_clusters,\n",
    "                   max_iter=250,\n",
    "                   random_state=1,\n",
    "                   verbose=1)\n",
    "    \n",
    "    model.fit(train_data)\n",
    "    return model\n",
    "\n",
    "\n",
    "def get_predictions(model, test_data):\n",
    "    return model.predict(test_data)\n",
    "\n",
    "\n",
    "def assign_labels_to_clusters(true_labels, predictions, num_clusters):\n",
    "    cluster_assignment = {}\n",
    "    true_count = 0\n",
    "    total = 0\n",
    "    for k in num_clusters:\n",
    "        count = [0] * 5\n",
    "        for i, pred in enumerate(predictions):\n",
    "            if pred == k:\n",
    "                count[LABELS.index(true_labels[i])] += 1\n",
    "        max_count = max(count)\n",
    "        total_count = sum(count)\n",
    "        cluster_assignment[k] = (LABELS[count.index(max_count)], max_count, total_count)\n",
    "        true_count += max_count\n",
    "        total += total_count\n",
    "    acc = true_count / total_count\n",
    "    return cluster_assignment, acc"
   ]
  },
  {
   "cell_type": "code",
   "execution_count": null,
   "metadata": {},
   "outputs": [],
   "source": [
    "start = time.time()\n",
    "model = kmeans(train_embeddings['vectors'], 10)\n",
    "end  = time.time()\n",
    "print(f\"Time taken to converge: {(end-start) / 3600} hrs.\")\n",
    "pred = get_predictions(model, test_embeddings['vectors'])\n",
    "cluster_assignment, accuracy = assign_labels_to_clusters(test_embeddings['labels'], pred, 10)\n",
    "print(f\"Overall accuracy is {accuracy:.4f}\")"
   ]
  },
  {
   "cell_type": "code",
   "execution_count": null,
   "metadata": {},
   "outputs": [],
   "source": []
  }
 ],
 "metadata": {
  "kernelspec": {
   "display_name": "Python 3",
   "language": "python",
   "name": "python3"
  },
  "language_info": {
   "codemirror_mode": {
    "name": "ipython",
    "version": 3
   },
   "file_extension": ".py",
   "mimetype": "text/x-python",
   "name": "python",
   "nbconvert_exporter": "python",
   "pygments_lexer": "ipython3",
   "version": "3.7.12"
  },
  "vscode": {
   "interpreter": {
    "hash": "916dbcbb3f70747c44a77c7bcd40155683ae19c65e1c03b4aa3499c5328201f1"
   }
  }
 },
 "nbformat": 4,
 "nbformat_minor": 2
}
